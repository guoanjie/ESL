{
 "cells": [
  {
   "cell_type": "code",
   "execution_count": 1,
   "metadata": {},
   "outputs": [],
   "source": [
    "import pandas as pd\n",
    "\n",
    "from sklearn.base import RegressorMixin\n",
    "from sklearn.discriminant_analysis import (\n",
    "    LinearDiscriminantAnalysis,\n",
    "    QuadraticDiscriminantAnalysis,\n",
    ")\n",
    "from sklearn.linear_model import (\n",
    "    LinearRegression,\n",
    "    LogisticRegression,\n",
    ")\n",
    "from sklearn.preprocessing import OneHotEncoder\n",
    "from datasets.vowel import X_train, y_train, X_test, y_test"
   ]
  },
  {
   "cell_type": "code",
   "execution_count": 2,
   "metadata": {
    "scrolled": false
   },
   "outputs": [],
   "source": [
    "def error_rate(estimator, X_train, y_train, X_test, y_test):\n",
    "    if isinstance(estimator, RegressorMixin):\n",
    "        enc = OneHotEncoder()\n",
    "        y_train = enc.fit_transform(y_train.to_frame()).toarray()\n",
    "        y_test  = enc.transform(y_test.to_frame()).toarray()\n",
    "    estimator.fit(X_train, y_train)\n",
    "    row = dict()\n",
    "    for col, X, y in [\n",
    "        ('Training', X_train, y_train), ('Test', X_test, y_test),\n",
    "    ]:\n",
    "        y_pred = estimator.predict(X)\n",
    "        if isinstance(estimator, RegressorMixin):\n",
    "            y = y.argmax(axis=1)\n",
    "            y_pred = y_pred.argmax(axis=1)\n",
    "        row[col] = (y != y_pred).mean()\n",
    "    return row"
   ]
  },
  {
   "cell_type": "code",
   "execution_count": 3,
   "metadata": {},
   "outputs": [
    {
     "data": {
      "text/html": [
       "<div>\n",
       "<style scoped>\n",
       "    .dataframe tbody tr th:only-of-type {\n",
       "        vertical-align: middle;\n",
       "    }\n",
       "\n",
       "    .dataframe tbody tr th {\n",
       "        vertical-align: top;\n",
       "    }\n",
       "\n",
       "    .dataframe thead th {\n",
       "        text-align: right;\n",
       "    }\n",
       "</style>\n",
       "<table border=\"1\" class=\"dataframe\">\n",
       "  <thead>\n",
       "    <tr style=\"text-align: right;\">\n",
       "      <th></th>\n",
       "      <th>Training</th>\n",
       "      <th>Test</th>\n",
       "    </tr>\n",
       "  </thead>\n",
       "  <tbody>\n",
       "    <tr>\n",
       "      <th>Linear regression</th>\n",
       "      <td>0.48</td>\n",
       "      <td>0.67</td>\n",
       "    </tr>\n",
       "    <tr>\n",
       "      <th>Linear discriminant analysis</th>\n",
       "      <td>0.32</td>\n",
       "      <td>0.56</td>\n",
       "    </tr>\n",
       "    <tr>\n",
       "      <th>Quadratic discriminant analysis</th>\n",
       "      <td>0.01</td>\n",
       "      <td>0.53</td>\n",
       "    </tr>\n",
       "    <tr>\n",
       "      <th>Logistic regression</th>\n",
       "      <td>0.23</td>\n",
       "      <td>0.51</td>\n",
       "    </tr>\n",
       "  </tbody>\n",
       "</table>\n",
       "</div>"
      ],
      "text/plain": [
       "                                 Training  Test\n",
       "Linear regression                    0.48  0.67\n",
       "Linear discriminant analysis         0.32  0.56\n",
       "Quadratic discriminant analysis      0.01  0.53\n",
       "Logistic regression                  0.23  0.51"
      ]
     },
     "execution_count": 3,
     "metadata": {},
     "output_type": "execute_result"
    }
   ],
   "source": [
    "pd.set_option('precision', 2)\n",
    "pd.DataFrame(data=[\n",
    "    error_rate(LinearRegression(),\n",
    "               X_train, y_train, X_test, y_test),\n",
    "    error_rate(LinearDiscriminantAnalysis(),\n",
    "               X_train, y_train, X_test, y_test),\n",
    "    error_rate(QuadraticDiscriminantAnalysis(),\n",
    "               X_train, y_train, X_test, y_test),\n",
    "    error_rate(LogisticRegression(C=y_train.nunique(), max_iter=1000),\n",
    "               X_train, y_train, X_test, y_test),\n",
    "], index=[\n",
    "    'Linear regression',\n",
    "    'Linear discriminant analysis',\n",
    "    'Quadratic discriminant analysis',\n",
    "    'Logistic regression',\n",
    "])"
   ]
  }
 ],
 "metadata": {
  "kernelspec": {
   "display_name": "Python 3",
   "language": "python",
   "name": "python3"
  },
  "language_info": {
   "codemirror_mode": {
    "name": "ipython",
    "version": 3
   },
   "file_extension": ".py",
   "mimetype": "text/x-python",
   "name": "python",
   "nbconvert_exporter": "python",
   "pygments_lexer": "ipython3",
   "version": "3.8.5"
  }
 },
 "nbformat": 4,
 "nbformat_minor": 4
}
